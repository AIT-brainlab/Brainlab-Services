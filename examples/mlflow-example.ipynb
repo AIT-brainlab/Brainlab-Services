{
 "cells": [
  {
   "cell_type": "code",
   "execution_count": null,
   "id": "e1764b2f-ce71-4632-b92d-599ed08b3011",
   "metadata": {},
   "outputs": [],
   "source": [
    "# Run `pip3 install mlflow` in the terminal\n",
    "import mlflow"
   ]
  }
 ],
 "metadata": {
  "kernelspec": {
   "display_name": "Python 3 (ipykernel)",
   "language": "python",
   "name": "python3"
  },
  "language_info": {
   "codemirror_mode": {
    "name": "ipython",
    "version": 3
   },
   "file_extension": ".py",
   "mimetype": "text/x-python",
   "name": "python",
   "nbconvert_exporter": "python",
   "pygments_lexer": "ipython3",
   "version": "3.10.6"
  }
 },
 "nbformat": 4,
 "nbformat_minor": 5
}
